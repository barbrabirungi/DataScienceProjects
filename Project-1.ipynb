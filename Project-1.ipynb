{
    "cells": [
        {
            "metadata": {
                "collapsed": true
            },
            "cell_type": "markdown",
            "source": "<h1>My Jupyter Notebook on IBM Watson Studio</h1>\n"
        },
        {
            "metadata": {},
            "cell_type": "markdown",
            "source": "<strong>Barbra Birungi</strong>\n<p>Data Analyst</p>"
        },
        {
            "metadata": {},
            "cell_type": "markdown",
            "source": "<em>I am interested in data science because i wish to contribute to the technological advancement of my country</em>\n<em> <p>I hope to launch my own start up in the future and create employment opportunities for youths in my city.</p> </em>"
        },
        {
            "metadata": {},
            "cell_type": "markdown",
            "source": "<h3> The code below will print out the word 'Hello' </h3>"
        },
        {
            "metadata": {},
            "cell_type": "code",
            "source": "print (\"Hello\")",
            "execution_count": 1,
            "outputs": [
                {
                    "output_type": "stream",
                    "text": "Hello\n",
                    "name": "stdout"
                }
            ]
        },
        {
            "metadata": {},
            "cell_type": "markdown",
            "source": "***Cell 6 excercise***\n<ol>\n  <li>First item</li>\n  <li>Second item</li>\n  <li>Third item</li>\n  <li>Fourth item</li>\n</ol>\n<br>\n<ul>\n  <li>First item</li>\n  <li>Second item</li>\n  <li>Third item</li>\n  <li>Fourth item</li>\n</ul>\n<br>\nGood Luck <hr />\n<br>\n<img src=\"https://unsplash.com/s/photos/rose-flower\" title=\"A Rose\" />\n<br>\n<table>thank <br> you </table>"
        },
        {
            "metadata": {},
            "cell_type": "code",
            "source": "",
            "execution_count": null,
            "outputs": []
        }
    ],
    "metadata": {
        "kernelspec": {
            "name": "python3",
            "display_name": "Python 3.9",
            "language": "python"
        },
        "language_info": {
            "name": "python",
            "version": "3.9.12",
            "mimetype": "text/x-python",
            "codemirror_mode": {
                "name": "ipython",
                "version": 3
            },
            "pygments_lexer": "ipython3",
            "nbconvert_exporter": "python",
            "file_extension": ".py"
        }
    },
    "nbformat": 4,
    "nbformat_minor": 1
}